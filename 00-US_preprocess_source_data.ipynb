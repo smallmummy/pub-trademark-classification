{
 "cells": [
  {
   "cell_type": "markdown",
   "metadata": {},
   "source": [
    "# run pyspark in jupyter"
   ]
  },
  {
   "cell_type": "code",
   "execution_count": 1,
   "metadata": {},
   "outputs": [
    {
     "name": "stderr",
     "output_type": "stream",
     "text": [
      "Setting default log level to \"WARN\".\n",
      "To adjust logging level use sc.setLogLevel(newLevel). For SparkR, use setLogLevel(newLevel).\n"
     ]
    },
    {
     "name": "stdout",
     "output_type": "stream",
     "text": [
      "22/12/12 00:25:31 WARN NativeCodeLoader: Unable to load native-hadoop library for your platform... using builtin-java classes where applicable\n"
     ]
    }
   ],
   "source": [
    "import findspark\n",
    "findspark.init()\n",
    "\n",
    "from pyspark import SparkContext\n",
    "sc = SparkContext(\"local\", \"uspto_pyspark\")"
   ]
  },
  {
   "cell_type": "code",
   "execution_count": 2,
   "metadata": {},
   "outputs": [
    {
     "name": "stderr",
     "output_type": "stream",
     "text": [
      "                                                                                \r"
     ]
    },
    {
     "name": "stdout",
     "output_type": "stream",
     "text": [
      "22/12/12 00:26:10 WARN package: Truncated the string representation of a plan since it was too large. This behavior can be adjusted by setting 'spark.sql.debug.maxToStringFields'.\n"
     ]
    }
   ],
   "source": [
    "input_file = \"/Users/vincentcheng/Downloads/apc221127.xml\"\n",
    "\n",
    "from pyspark.sql import SparkSession\n",
    "from pyspark.sql import functions as f\n",
    "\n",
    "spark = SparkSession.builder.config(\"spark.sql.warehouse.dir\").appName(\"uspto_preprocess\").getOrCreate()\n",
    "\n",
    "df_ori = spark.read.format(\"com.databricks.spark.xml\").option(\"rowTag\",\"case-file\").load(input_file)\n",
    "\n"
   ]
  },
  {
   "cell_type": "code",
   "execution_count": 5,
   "metadata": {},
   "outputs": [
    {
     "name": "stdout",
     "output_type": "stream",
     "text": [
      "root\n",
      " |-- case-file-header: struct (nullable = true)\n",
      " |    |-- abandonment-date: long (nullable = true)\n",
      " |    |-- amend-to-register-date: long (nullable = true)\n",
      " |    |-- amended-to-44d-application-in: string (nullable = true)\n",
      " |    |-- amended-to-44e-application-in: string (nullable = true)\n",
      " |    |-- amended-to-itu-application-in: string (nullable = true)\n",
      " |    |-- amended-to-use-application-in: string (nullable = true)\n",
      " |    |-- attorney-docket-number: string (nullable = true)\n",
      " |    |-- attorney-name: string (nullable = true)\n",
      " |    |-- cancellation-code: string (nullable = true)\n",
      " |    |-- cancellation-date: long (nullable = true)\n",
      " |    |-- cancellation-pending-in: string (nullable = true)\n",
      " |    |-- certification-mark-in: string (nullable = true)\n",
      " |    |-- change-registration-in: string (nullable = true)\n",
      " |    |-- collective-membership-mark-in: string (nullable = true)\n",
      " |    |-- collective-service-mark-in: string (nullable = true)\n",
      " |    |-- collective-trademark-in: string (nullable = true)\n",
      " |    |-- color-drawing-current-in: string (nullable = true)\n",
      " |    |-- color-drawing-filed-in: string (nullable = true)\n",
      " |    |-- concurrent-use-in: string (nullable = true)\n",
      " |    |-- concurrent-use-proceeding-in: string (nullable = true)\n",
      " |    |-- current-location: string (nullable = true)\n",
      " |    |-- domestic-representative-name: string (nullable = true)\n",
      " |    |-- drawing-3d-current-in: string (nullable = true)\n",
      " |    |-- drawing-3d-filed-in: string (nullable = true)\n",
      " |    |-- employee-name: string (nullable = true)\n",
      " |    |-- filed-as-use-application-in: string (nullable = true)\n",
      " |    |-- filing-basis-current-44d-in: string (nullable = true)\n",
      " |    |-- filing-basis-current-44e-in: string (nullable = true)\n",
      " |    |-- filing-basis-current-66a-in: string (nullable = true)\n",
      " |    |-- filing-basis-filed-as-44d-in: string (nullable = true)\n",
      " |    |-- filing-basis-filed-as-44e-in: string (nullable = true)\n",
      " |    |-- filing-basis-filed-as-66a-in: string (nullable = true)\n",
      " |    |-- filing-current-no-basis-in: string (nullable = true)\n",
      " |    |-- filing-date: long (nullable = true)\n",
      " |    |-- foreign-priority-in: string (nullable = true)\n",
      " |    |-- intent-to-use-current-in: string (nullable = true)\n",
      " |    |-- intent-to-use-in: string (nullable = true)\n",
      " |    |-- interference-pending-in: string (nullable = true)\n",
      " |    |-- law-office-assigned-location-code: string (nullable = true)\n",
      " |    |-- location-date: long (nullable = true)\n",
      " |    |-- mark-drawing-code: string (nullable = true)\n",
      " |    |-- mark-identification: string (nullable = true)\n",
      " |    |-- opposition-pending-in: string (nullable = true)\n",
      " |    |-- principal-register-amended-in: string (nullable = true)\n",
      " |    |-- published-concurrent-in: string (nullable = true)\n",
      " |    |-- published-for-opposition-date: long (nullable = true)\n",
      " |    |-- registration-date: long (nullable = true)\n",
      " |    |-- renewal-date: long (nullable = true)\n",
      " |    |-- renewal-filed-in: string (nullable = true)\n",
      " |    |-- republished-12c-date: long (nullable = true)\n",
      " |    |-- section-12c-in: string (nullable = true)\n",
      " |    |-- section-15-acknowledged-in: string (nullable = true)\n",
      " |    |-- section-15-filed-in: string (nullable = true)\n",
      " |    |-- section-2f-in: string (nullable = true)\n",
      " |    |-- section-2f-in-part-in: string (nullable = true)\n",
      " |    |-- section-8-accepted-in: string (nullable = true)\n",
      " |    |-- section-8-filed-in: string (nullable = true)\n",
      " |    |-- section-8-partial-accept-in: string (nullable = true)\n",
      " |    |-- service-mark-in: string (nullable = true)\n",
      " |    |-- standard-characters-claimed-in: string (nullable = true)\n",
      " |    |-- status-code: long (nullable = true)\n",
      " |    |-- status-date: long (nullable = true)\n",
      " |    |-- supplemental-register-amended-in: string (nullable = true)\n",
      " |    |-- supplemental-register-in: string (nullable = true)\n",
      " |    |-- trademark-in: string (nullable = true)\n",
      " |    |-- use-application-currently-in: string (nullable = true)\n",
      " |    |-- without-basis-currently-in: string (nullable = true)\n",
      " |-- case-file-owners: struct (nullable = true)\n",
      " |    |-- case-file-owner: array (nullable = true)\n",
      " |    |    |-- element: struct (containsNull = true)\n",
      " |    |    |    |-- address-1: string (nullable = true)\n",
      " |    |    |    |-- address-2: string (nullable = true)\n",
      " |    |    |    |-- city: string (nullable = true)\n",
      " |    |    |    |-- composed-of-statement: string (nullable = true)\n",
      " |    |    |    |-- country: string (nullable = true)\n",
      " |    |    |    |-- dba-aka-text: string (nullable = true)\n",
      " |    |    |    |-- entity-statement: string (nullable = true)\n",
      " |    |    |    |-- entry-number: long (nullable = true)\n",
      " |    |    |    |-- legal-entity-type-code: long (nullable = true)\n",
      " |    |    |    |-- name-change-explanation: array (nullable = true)\n",
      " |    |    |    |    |-- element: string (containsNull = true)\n",
      " |    |    |    |-- nationality: struct (nullable = true)\n",
      " |    |    |    |    |-- country: string (nullable = true)\n",
      " |    |    |    |    |-- other: string (nullable = true)\n",
      " |    |    |    |    |-- state: string (nullable = true)\n",
      " |    |    |    |-- other: string (nullable = true)\n",
      " |    |    |    |-- party-name: string (nullable = true)\n",
      " |    |    |    |-- party-type: long (nullable = true)\n",
      " |    |    |    |-- postcode: string (nullable = true)\n",
      " |    |    |    |-- state: string (nullable = true)\n",
      " |-- case-file-statements: struct (nullable = true)\n",
      " |    |-- case-file-statement: array (nullable = true)\n",
      " |    |    |-- element: struct (containsNull = true)\n",
      " |    |    |    |-- text: string (nullable = true)\n",
      " |    |    |    |-- type-code: string (nullable = true)\n",
      " |-- correspondent: struct (nullable = true)\n",
      " |    |-- address-1: string (nullable = true)\n",
      " |    |-- address-2: string (nullable = true)\n",
      " |    |-- address-3: string (nullable = true)\n",
      " |    |-- address-4: string (nullable = true)\n",
      " |    |-- address-5: string (nullable = true)\n",
      " |-- design-searches: struct (nullable = true)\n",
      " |    |-- design-search: array (nullable = true)\n",
      " |    |    |-- element: struct (containsNull = true)\n",
      " |    |    |    |-- code: long (nullable = true)\n",
      " |-- foreign-applications: struct (nullable = true)\n",
      " |    |-- foreign-application: array (nullable = true)\n",
      " |    |    |-- element: struct (containsNull = true)\n",
      " |    |    |    |-- application-number: string (nullable = true)\n",
      " |    |    |    |-- country: string (nullable = true)\n",
      " |    |    |    |-- entry-number: long (nullable = true)\n",
      " |    |    |    |-- filing-date: long (nullable = true)\n",
      " |    |    |    |-- foreign-priority-claim-in: string (nullable = true)\n",
      " |    |    |    |-- other: string (nullable = true)\n",
      " |    |    |    |-- registration-date: long (nullable = true)\n",
      " |    |    |    |-- registration-expiration-date: long (nullable = true)\n",
      " |    |    |    |-- registration-number: string (nullable = true)\n",
      " |    |    |    |-- registration-renewal-date: long (nullable = true)\n",
      " |-- international-registration: struct (nullable = true)\n",
      " |    |-- auto-protection-date: long (nullable = true)\n",
      " |    |-- first-refusal-in: string (nullable = true)\n",
      " |    |-- international-death-date: long (nullable = true)\n",
      " |    |-- international-publication-date: long (nullable = true)\n",
      " |    |-- international-registration-date: long (nullable = true)\n",
      " |    |-- international-registration-number: long (nullable = true)\n",
      " |    |-- international-renewal-date: long (nullable = true)\n",
      " |    |-- international-status-code: long (nullable = true)\n",
      " |    |-- international-status-date: long (nullable = true)\n",
      " |    |-- priority-claimed-date: long (nullable = true)\n",
      " |    |-- priority-claimed-in: string (nullable = true)\n",
      " |-- madrid-international-filing-requests: struct (nullable = true)\n",
      " |    |-- madrid-international-filing-record: array (nullable = true)\n",
      " |    |    |-- element: struct (containsNull = true)\n",
      " |    |    |    |-- entry-number: long (nullable = true)\n",
      " |    |    |    |-- international-registration-date: long (nullable = true)\n",
      " |    |    |    |-- international-registration-number: string (nullable = true)\n",
      " |    |    |    |-- international-renewal-date: long (nullable = true)\n",
      " |    |    |    |-- international-status-code: long (nullable = true)\n",
      " |    |    |    |-- international-status-date: long (nullable = true)\n",
      " |    |    |    |-- irregularity-reply-by-date: long (nullable = true)\n",
      " |    |    |    |-- madrid-history-events: struct (nullable = true)\n",
      " |    |    |    |    |-- madrid-history-event: array (nullable = true)\n",
      " |    |    |    |    |    |-- element: struct (containsNull = true)\n",
      " |    |    |    |    |    |    |-- code: string (nullable = true)\n",
      " |    |    |    |    |    |    |-- date: long (nullable = true)\n",
      " |    |    |    |    |    |    |-- description-text: string (nullable = true)\n",
      " |    |    |    |    |    |    |-- entry-number: long (nullable = true)\n",
      " |    |    |    |-- original-filing-date-uspto: long (nullable = true)\n",
      " |    |    |    |-- reference-number: string (nullable = true)\n",
      " |-- prior-registration-applications: struct (nullable = true)\n",
      " |    |-- other-related-in: string (nullable = true)\n",
      " |    |-- prior-registration-application: array (nullable = true)\n",
      " |    |    |-- element: struct (containsNull = true)\n",
      " |    |    |    |-- number: long (nullable = true)\n",
      " |    |    |    |-- relationship-type: long (nullable = true)\n",
      " |-- registration-number: long (nullable = true)\n",
      " |-- serial-number: long (nullable = true)\n",
      " |-- transaction-date: long (nullable = true)\n",
      "\n"
     ]
    }
   ],
   "source": [
    "df_ori.printSchema()"
   ]
  },
  {
   "cell_type": "code",
   "execution_count": 22,
   "metadata": {},
   "outputs": [
    {
     "name": "stdout",
     "output_type": "stream",
     "text": [
      "+------------------+---+--------------------+\n",
      "|application_number|cls|                  gs|\n",
      "+------------------+---+--------------------+\n",
      "|          75916583| 35|Managing hotels a...|\n",
      "|          75916583| 43|RENTING OF TEMPOR...|\n",
      "|          76483458| 05|Human vaccine pre...|\n",
      "|          77659455| 43|Hotel, bar and re...|\n",
      "|          77659460| 43|Hotel, bar and re...|\n",
      "|          77911652| 43|Hotel, bar and re...|\n",
      "|          86081025| 43|hotel, bar and re...|\n",
      "|          86299351| 09|Protective cases ...|\n",
      "|          86310386| 37|Management of rea...|\n",
      "|          86310386| 36|Real estate servi...|\n",
      "|          86310386| 35|Market research, ...|\n",
      "|          86745892| 43|hotels, hotel res...|\n",
      "|          87112551| 44|Farming services ...|\n",
      "|          87601142| 05|Dietary and nutri...|\n",
      "|          87601142| 35|Retail services p...|\n",
      "|          87626338| 43|HOTEL, BAR AND RE...|\n",
      "|          88015783| 43|HOTEL, BAR AND RE...|\n",
      "|          90021244| 43|hotel, bar and re...|\n",
      "|          90172577| 25|jackets, pants, s...|\n",
      "|          90659148| 41|Entertainment ser...|\n",
      "+------------------+---+--------------------+\n",
      "only showing top 20 rows\n",
      "\n"
     ]
    },
    {
     "name": "stdout",
     "output_type": "stream",
     "text": [
      "22/12/12 00:51:39 WARN HeartbeatReceiver: Removing executor driver with no recent heartbeats: 151479 ms exceeds timeout 120000 ms\n",
      "22/12/12 00:51:39 WARN SparkContext: Killing executors is not supported by current scheduler.\n"
     ]
    }
   ],
   "source": [
    "df_ori.select(\n",
    "    \"*\",\n",
    "    f.explode(\"case-file-statements.case-file-statement\")\n",
    ").filter(\n",
    "    f.substring(f.col('col.type-code'), 0, 2) == 'GS'\n",
    ").select(\n",
    "    f.col(\"serial-number\").alias(\"application_number\"),\n",
    "    \"case-file-header.filing-date\",\n",
    "    f.column(\"col.text\").alias(\"gs\"),\n",
    "    f.substring(f.col(\"col.type-code\"), 4, 2).alias(\"cls\")\n",
    ").filter(\n",
    "    f.col(\"filing-date\")>=\"19900101\"\n",
    ").select(\n",
    "    \"application_number\",\"cls\",\"gs\"\n",
    ").show()\n",
    "\n",
    "\n"
   ]
  },
  {
   "cell_type": "code",
   "execution_count": 112,
   "metadata": {},
   "outputs": [],
   "source": [
    "# df1 - Phase 1: explode the necessary array\n",
    "df1 = df.withColumn(\n",
    "    'company',f.explode_outer(f.col('company'))\n",
    ").withColumn(\n",
    "   'emailAddress',f.explode_outer(f.col('emailAddress'))\n",
    ").withColumn(\n",
    "   'industryClassification',f.explode_outer(f.col('industryClassification'))\n",
    ").withColumn(\n",
    "   'physicalAddress',f.explode_outer(f.col('physicalAddress'))\n",
    ")\n",
    "# select the valid physical address\n",
    "df1 = df1.filter(df1.physicalAddress.endDate.isNull())\n",
    "\n",
    "# select the valid registered address\n",
    "df1 = df1.withColumn(\n",
    "   'registeredAddress',f.explode_outer(f.col('registeredAddress'))\n",
    ")\n",
    "df1 = df1.filter(df1.registeredAddress.endDate.isNull())\n",
    "\n",
    "df1 = df1.withColumn(\n",
    "   'tradingNames',f.explode_outer(f.col('tradingNames'))\n",
    ")\n"
   ]
  },
  {
   "cell_type": "code",
   "execution_count": 113,
   "metadata": {},
   "outputs": [
    {
     "data": {
      "text/plain": [
       "998"
      ]
     },
     "execution_count": 113,
     "metadata": {},
     "output_type": "execute_result"
    }
   ],
   "source": [
    "df1.count()"
   ]
  },
  {
   "cell_type": "code",
   "execution_count": 101,
   "metadata": {},
   "outputs": [],
   "source": [
    "def drop_col(df, struct_nm, delete_struct_child_col_nms):\n",
    "    fields_to_keep = filter(lambda x:  x not in delete_struct_child_col_nms, df.select(\"{}.*\".format(struct_nm)).columns)\n",
    "    fields_to_keep = list(map(lambda x:  \"{}.{}\".format(struct_nm, x), fields_to_keep))\n",
    "    return df.withColumn(struct_nm, f.struct(fields_to_keep))"
   ]
  },
  {
   "cell_type": "code",
   "execution_count": 114,
   "metadata": {},
   "outputs": [],
   "source": [
    "# df2 - Phase 2: drop the unneeded columns\n",
    "df2 = drop_col(df1, \"company\", [\"shareholding\", \"stockExchangeListed\"])\n",
    "df2= df2.drop(\"historicShareholder\", \"insolvencyDetails\", \"roles\", \"ultimateHoldingCompany\")"
   ]
  },
  {
   "cell_type": "code",
   "execution_count": 115,
   "metadata": {},
   "outputs": [
    {
     "name": "stdout",
     "output_type": "stream",
     "text": [
      "root\n",
      " |-- australianBusinessNumber: string (nullable = true)\n",
      " |-- australianCompanyNumber: string (nullable = true)\n",
      " |-- australianServiceAddress: string (nullable = true)\n",
      " |-- company: struct (nullable = false)\n",
      " |    |-- annualReturnFilingMonth: string (nullable = true)\n",
      " |    |-- annualReturnLastFiled: string (nullable = true)\n",
      " |    |-- countryOfOrigin: string (nullable = true)\n",
      " |    |-- extensiveShareholding: string (nullable = true)\n",
      " |    |-- financialReportFilingMonth: string (nullable = true)\n",
      " |    |-- hasConstitutionFiled: string (nullable = true)\n",
      " |    |-- nzsxCode: string (nullable = true)\n",
      " |    |-- overseasCompany: string (nullable = true)\n",
      " |-- emailAddress: struct (nullable = true)\n",
      " |    |-- emailAddress: string (nullable = true)\n",
      " |    |-- emailPurpose: string (nullable = true)\n",
      " |    |-- emailPurposeDescription: string (nullable = true)\n",
      " |    |-- startDate: string (nullable = true)\n",
      " |    |-- uniqueIdentifier: string (nullable = true)\n",
      " |-- entityName: string (nullable = true)\n",
      " |-- entityNames: array (nullable = true)\n",
      " |    |-- element: struct (containsNull = true)\n",
      " |    |    |-- endDate: string (nullable = true)\n",
      " |    |    |-- entityName: string (nullable = true)\n",
      " |    |    |-- startDate: string (nullable = true)\n",
      " |-- entityStatus: array (nullable = true)\n",
      " |    |-- element: struct (containsNull = true)\n",
      " |    |    |-- comment: string (nullable = true)\n",
      " |    |    |-- endDate: string (nullable = true)\n",
      " |    |    |-- entityStatus: string (nullable = true)\n",
      " |    |    |-- startDate: string (nullable = true)\n",
      " |    |    |-- statusReasonCode: string (nullable = true)\n",
      " |-- entityStatusCode: string (nullable = true)\n",
      " |-- entityStatusDescription: string (nullable = true)\n",
      " |-- entityTypeCode: string (nullable = true)\n",
      " |-- entityTypeDescription: string (nullable = true)\n",
      " |-- gstEffectiveDate: string (nullable = true)\n",
      " |-- gstStatus: string (nullable = true)\n",
      " |-- industryClassification: struct (nullable = true)\n",
      " |    |-- classificationCode: string (nullable = true)\n",
      " |    |-- classificationDescription: string (nullable = true)\n",
      " |    |-- uniqueIdentifier: string (nullable = true)\n",
      " |-- lastUpdatedDate: string (nullable = true)\n",
      " |-- locationIdentifier: string (nullable = true)\n",
      " |-- nzbn: string (nullable = true)\n",
      " |-- otherAddress: array (nullable = true)\n",
      " |    |-- element: struct (containsNull = true)\n",
      " |    |    |-- address1: string (nullable = true)\n",
      " |    |    |-- address2: string (nullable = true)\n",
      " |    |    |-- address3: string (nullable = true)\n",
      " |    |    |-- address4: string (nullable = true)\n",
      " |    |    |-- careOf: string (nullable = true)\n",
      " |    |    |-- countryCode: string (nullable = true)\n",
      " |    |    |-- description: string (nullable = true)\n",
      " |    |    |-- endDate: string (nullable = true)\n",
      " |    |    |-- pafID: string (nullable = true)\n",
      " |    |    |-- postCode: string (nullable = true)\n",
      " |    |    |-- startDate: string (nullable = true)\n",
      " |    |    |-- uniqueIdentifier: string (nullable = true)\n",
      " |-- phoneNumber: array (nullable = true)\n",
      " |    |-- element: string (containsNull = true)\n",
      " |-- physicalAddress: struct (nullable = true)\n",
      " |    |-- address1: string (nullable = true)\n",
      " |    |-- address2: string (nullable = true)\n",
      " |    |-- address3: string (nullable = true)\n",
      " |    |-- address4: string (nullable = true)\n",
      " |    |-- careOf: string (nullable = true)\n",
      " |    |-- countryCode: string (nullable = true)\n",
      " |    |-- endDate: string (nullable = true)\n",
      " |    |-- pafID: string (nullable = true)\n",
      " |    |-- postCode: string (nullable = true)\n",
      " |    |-- startDate: string (nullable = true)\n",
      " |    |-- uniqueIdentifier: string (nullable = true)\n",
      " |-- postalAddress: array (nullable = true)\n",
      " |    |-- element: string (containsNull = true)\n",
      " |-- principalPlaceOfActivity: array (nullable = true)\n",
      " |    |-- element: string (containsNull = true)\n",
      " |-- privacySettings: string (nullable = true)\n",
      " |-- registeredAddress: struct (nullable = true)\n",
      " |    |-- address1: string (nullable = true)\n",
      " |    |-- address2: string (nullable = true)\n",
      " |    |-- address3: string (nullable = true)\n",
      " |    |-- address4: string (nullable = true)\n",
      " |    |-- careOf: string (nullable = true)\n",
      " |    |-- countryCode: string (nullable = true)\n",
      " |    |-- endDate: string (nullable = true)\n",
      " |    |-- pafID: string (nullable = true)\n",
      " |    |-- postCode: string (nullable = true)\n",
      " |    |-- startDate: string (nullable = true)\n",
      " |    |-- uniqueIdentifier: string (nullable = true)\n",
      " |-- registrationDate: string (nullable = true)\n",
      " |-- sourceRegister: string (nullable = true)\n",
      " |-- sourceRegisterUniqueIdentifier: string (nullable = true)\n",
      " |-- startDate: string (nullable = true)\n",
      " |-- supportingInformation: string (nullable = true)\n",
      " |-- tradingNames: struct (nullable = true)\n",
      " |    |-- name: string (nullable = true)\n",
      " |    |-- startDate: string (nullable = true)\n",
      " |    |-- uniqueIdentifier: string (nullable = true)\n",
      " |-- website: array (nullable = true)\n",
      " |    |-- element: string (containsNull = true)\n",
      "\n"
     ]
    }
   ],
   "source": [
    "df2.printSchema()"
   ]
  }
 ],
 "metadata": {
  "kernelspec": {
   "display_name": "Python 3.8.13 ('tm_nlp')",
   "language": "python",
   "name": "python3"
  },
  "language_info": {
   "codemirror_mode": {
    "name": "ipython",
    "version": 3
   },
   "file_extension": ".py",
   "mimetype": "text/x-python",
   "name": "python",
   "nbconvert_exporter": "python",
   "pygments_lexer": "ipython3",
   "version": "3.8.13"
  },
  "orig_nbformat": 4,
  "vscode": {
   "interpreter": {
    "hash": "ed6a63b888fcb7d5f9ca97fbfdb77660060e60ab923755bd2b1564545ea9c047"
   }
  }
 },
 "nbformat": 4,
 "nbformat_minor": 2
}
