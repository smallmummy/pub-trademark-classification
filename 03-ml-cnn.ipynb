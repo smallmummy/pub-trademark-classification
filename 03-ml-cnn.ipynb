{
 "cells": [
  {
   "cell_type": "code",
   "execution_count": 1,
   "metadata": {},
   "outputs": [],
   "source": [
    "import os\n",
    "import json\n",
    "import pickle\n",
    "import numpy as np\n",
    "import pandas as pd\n",
    "import tensorflow as tf\n",
    "from pathlib import Path\n",
    "from copy import deepcopy\n",
    "from sklearn.model_selection import train_test_split\n",
    "from gensim.models import KeyedVectors\n",
    "from keras.preprocessing.text import Tokenizer\n",
    "from keras_preprocessing.sequence import pad_sequences\n",
    "from keras.wrappers.scikit_learn import KerasClassifier\n",
    "# from keras.utils import to_categorical\n",
    "from tensorflow.keras.utils import to_categorical\n",
    "from keras.models import Sequential, Model\n",
    "from keras import layers, regularizers\n",
    "from keras.optimizers import SGD\n",
    "from keras.callbacks import ModelCheckpoint, EarlyStopping\n",
    "from sklearn.model_selection import RandomizedSearchCV\n",
    "import matplotlib.pyplot as plt\n",
    "plt.style.use('ggplot')"
   ]
  },
  {
   "cell_type": "code",
   "execution_count": 2,
   "metadata": {},
   "outputs": [],
   "source": [
    "%store -r DF_INPUT_FILE\n",
    "%store -r EMBEDDING_DIM\n",
    "%store -r TOKENIZER_FILE\n",
    "%store -r WORD2VEC_MATRIX_FILE\n",
    "%store -r KERNEL_SIZE\n",
    "%store -r MAXLEN\n",
    "%store -r SENTENCE_GS_TRAIN_FILE\n",
    "%store -r SENTENCE_GS_TEST_FILE\n",
    "%store -r GS_TRAIN_FILE\n",
    "%store -r GS_TEST_FILE\n",
    "%store -r CLASS_TRAIN_FILE\n",
    "%store -r CLASS_TEST_FILE\n",
    "%store -r EPOCHS\n",
    "%store -r GRID_SEARCH_BEST_MODEL_FILE\n",
    "%store -r GRID_SEARCH_CV_RESULTS_FILE\n",
    "%store -r GRID_SEARCH_FIG_FILE\n",
    "%store -r VAL_DROPOUT\n",
    "%store -r NUM_FILTERS\n",
    "%store -r MODEL_CHECKPOINT_FILE\n",
    "%store -r BATCH_SIZE\n",
    "%store -r MODEL_STAT_FIG_FILE\n",
    "%store -r MODEL_OP_FILE\n",
    "\n"
   ]
  },
  {
   "cell_type": "code",
   "execution_count": 3,
   "metadata": {},
   "outputs": [],
   "source": [
    "\n",
    "with open(DF_INPUT_FILE, \"rb\") as fr:\n",
    "    df = pickle.load(fr)\n",
    "\n",
    "with open(TOKENIZER_FILE, \"rb\") as fr:\n",
    "    tokenizer = pickle.load(fr)\n",
    "\n",
    "with open(WORD2VEC_MATRIX_FILE, \"rb\") as fr:\n",
    "    word2vec_matrix = pickle.load(fr)\n",
    "    \n"
   ]
  },
  {
   "cell_type": "code",
   "execution_count": 6,
   "metadata": {},
   "outputs": [],
   "source": [
    "def split_gs_class_for_train_test(df):\n",
    "\n",
    "    gs = df['gs'].values\n",
    "    class_num = df['cls'].values\n",
    "\n",
    "    (\n",
    "        sentence_gs_train, sentence_gs_test, class_train, class_test\n",
    "    ) = train_test_split(\n",
    "        gs, class_num, test_size=XXX, random_state=XXX\n",
    "    )\n",
    "\n",
    "    class_train = to_categorical(class_train - 1)\n",
    "    class_test = to_categorical(class_test - 1)\n",
    "\n",
    "    return sentence_gs_train, sentence_gs_test, class_train, class_test"
   ]
  },
  {
   "cell_type": "code",
   "execution_count": 7,
   "metadata": {},
   "outputs": [],
   "source": [
    "def tokenize_data_set(\n",
    "    tokenizer, sentence_gs_train, sentence_gs_test\n",
    "):\n",
    "    # TODO there is hyphen in string only like \"-\", the length would be 0\n",
    "    gs_train = tokenizer.texts_to_sequences(sentence_gs_train)\n",
    "    gs_test = tokenizer.texts_to_sequences(sentence_gs_test)\n",
    "\n",
    "    # using following to stat and esti the length\n",
    "    # sorted([len(item) for item in gs_test])[-10:]\n",
    "    # sorted([len(item) for item in gs_train])[-10:]\n",
    "\n",
    "    maxlen = max([len(item) for item in gs_train]) + KERNEL_SIZE - 1\n",
    "    if maxlen < MAXLEN:\n",
    "        print(\n",
    "            f\"the actual maxlen:{maxlen} is less than pre-setting MAXLEN:{MAXLEN}, \"\n",
    "            \"using the acutal(smaller) one\"\n",
    "        )\n",
    "    else:\n",
    "        print(\n",
    "            f\"the actual maxlen:{maxlen} is large than pre-setting MAXLEN:{MAXLEN}, \"\n",
    "            f\"the pre-setting:{MAXLEN} would be used, means some text in sample would be lose\"\n",
    "        )\n",
    "        maxlen = MAXLEN\n",
    "    gs_train = pad_sequences(gs_train, padding='post', maxlen=maxlen)\n",
    "    gs_test = pad_sequences(gs_test, padding='post', maxlen=maxlen)\n",
    "\n",
    "\n",
    "    return gs_train, gs_test, maxlen"
   ]
  },
  {
   "cell_type": "code",
   "execution_count": 10,
   "metadata": {},
   "outputs": [],
   "source": [
    "def pickle_op_file(var, filename, base_dir=\"\"):\n",
    "    with open(\n",
    "        os.path.join(base_dir, filename), \"wb\"\n",
    "    ) as fw:\n",
    "        pickle.dump(var, fw, protocol=4)"
   ]
  },
  {
   "cell_type": "code",
   "execution_count": 8,
   "metadata": {},
   "outputs": [],
   "source": [
    "def prepare_train_test_set(\n",
    "    tokenizer, df\n",
    "):\n",
    "\n",
    "    (\n",
    "        sentence_gs_train, sentence_gs_test, class_train, class_test\n",
    "    ) = split_gs_class_for_train_test(\n",
    "        df\n",
    "    )\n",
    "\n",
    "    gs_train, gs_test, maxlen = tokenize_data_set(\n",
    "        tokenizer, sentence_gs_train, sentence_gs_test\n",
    "    )\n",
    "\n",
    "    pickle_op_file(sentence_gs_train, SENTENCE_GS_TRAIN_FILE)\n",
    "    pickle_op_file(sentence_gs_test, SENTENCE_GS_TEST_FILE)\n",
    "    pickle_op_file(gs_train, GS_TRAIN_FILE)\n",
    "    pickle_op_file(gs_test, GS_TEST_FILE)\n",
    "    pickle_op_file(class_train, CLASS_TRAIN_FILE)\n",
    "    pickle_op_file(class_test, CLASS_TEST_FILE)\n",
    "\n",
    "    return gs_train, gs_test, class_train, class_test, maxlen"
   ]
  },
  {
   "cell_type": "code",
   "execution_count": null,
   "metadata": {},
   "outputs": [],
   "source": [
    "(\n",
    "    gs_train, gs_test, class_train, class_test, maxlen\n",
    ") = prepare_train_test_set(\n",
    "    tokenizer, df\n",
    ")\n",
    "\n",
    "vocab_size = len(tokenizer.word_index) + 1  # Adding 1 because of reserved 0 index\n",
    "nonzero_elements = np.count_nonzero(\n",
    "    np.count_nonzero(word2vec_matrix, axis=1)\n",
    ")\n",
    "\n",
    "print(\n",
    "    f\"vocab_size={vocab_size} and there are {nonzero_elements} words \"\n",
    "    f\"in words_embedding, ratio={(nonzero_elements / vocab_size*100):.2f}%\"\n",
    ")\n",
    "\n",
    "if gs_train.shape[1] != gs_test.shape[1]:\n",
    "    print(\n",
    "        f\"the Y length of train:{gs_train.shape[1]} is \"\n",
    "        f\"differnt with test:{gs_test.shape[1]}\"\n",
    "    )\n",
    "    raise RuntimeError(\"the Y length of train is differnt with test\")\n"
   ]
  },
  {
   "cell_type": "code",
   "execution_count": 69,
   "metadata": {},
   "outputs": [],
   "source": [
    "# multiple filter layers model\n",
    "def create_model_multi_conv(\n",
    "    val_dropout, num_filters, kernel_sizes, vocab_size, embedding_dim, maxlen\n",
    "):\n",
    "\n",
    "    layer_inputs = layers.Input(shape=(maxlen, ), dtype='int32', name=\"input0\")\n",
    "\n",
    "    layer_embedding = layers.Embedding(\n",
    "        vocab_size, embedding_dim,\n",
    "        weights=[word2vec_matrix],\n",
    "        input_length=maxlen,\n",
    "        trainable=True,\n",
    "        name=\"embedding\"\n",
    "    )(layer_inputs)\n",
    "\n",
    "    layer_conv_0 = layers.Conv1D(\n",
    "        num_filters, kernel_sizes[0], activation='relu', name='conv_0'\n",
    "    )(layer_embedding)\n",
    "    layer_conv_1 = layers.Conv1D(\n",
    "        num_filters, kernel_sizes[1], activation='relu', name='conv_1'\n",
    "    )(layer_embedding)\n",
    "    layer_conv_2 = layers.Conv1D(\n",
    "        num_filters, kernel_sizes[2], activation='relu', name='conv_2'\n",
    "    )(layer_embedding)\n",
    "\n",
    "    layer_conv_0 = layers.Dropout(val_dropout)(layer_conv_0)\n",
    "    layer_conv_1 = layers.Dropout(val_dropout)(layer_conv_1)\n",
    "    layer_conv_2 = layers.Dropout(val_dropout)(layer_conv_2)\n",
    "\n",
    "    layer_maxpool_0 = layers.GlobalMaxPooling1D()(layer_conv_0)\n",
    "    layer_maxpool_1 = layers.GlobalMaxPooling1D()(layer_conv_1)\n",
    "    layer_maxpool_2 = layers.GlobalMaxPooling1D()(layer_conv_2)\n",
    "\n",
    "    layer_concatenated_tensor = layers.Concatenate(axis=1)([\n",
    "        layer_maxpool_0, layer_maxpool_1, layer_maxpool_2\n",
    "    ])\n",
    "    \n",
    "    layer_flatten = layers.Flatten()(layer_concatenated_tensor)\n",
    "    layer_dropout = layers.Dropout(val_dropout)(layer_flatten)\n",
    "    \n",
    "    layer_dense = layers.Dense(512, activation='relu')(layer_dropout)\n",
    "    layer_dense = layers.Dense(256, activation='relu')(layer_dense)\n",
    "    layer_dense = layers.Dense(45, activation='softmax')(layer_dense)\n",
    "   \n",
    "    model = Model(inputs=layer_inputs, outputs=layer_dense)\n",
    "    \n",
    "    model.compile(\n",
    "        optimizer='adam',\n",
    "        # optimizer=opt,\n",
    "        # loss='binary_crossentropy',\n",
    "        loss='categorical_crossentropy',\n",
    "        metrics=['accuracy']\n",
    "        # metrics=['mse']\n",
    "    )\n",
    "    return model"
   ]
  },
  {
   "cell_type": "markdown",
   "metadata": {},
   "source": [
    "## CNN model (fixed parameter)"
   ]
  },
  {
   "cell_type": "code",
   "execution_count": 12,
   "metadata": {},
   "outputs": [],
   "source": [
    "def plot_history(history):\n",
    "    acc = history.history['accuracy']\n",
    "    val_acc = history.history['val_accuracy']\n",
    "    loss = history.history['loss']\n",
    "    val_loss = history.history['val_loss']\n",
    "    x = range(1, len(acc) + 1)\n",
    "\n",
    "    plt.figure(figsize=(12, 5))\n",
    "    plt.subplot(1, 2, 1)\n",
    "    plt.plot(x, acc, 'b', label='Training acc')\n",
    "    plt.plot(x, val_acc, 'r', label='Validation acc')\n",
    "    plt.title('Training and validation accuracy')\n",
    "    plt.legend()\n",
    "    plt.subplot(1, 2, 2)\n",
    "    plt.plot(x, loss, 'b', label='Training loss')\n",
    "    plt.plot(x, val_loss, 'r', label='Validation loss')\n",
    "    plt.title('Training and validation loss')\n",
    "    plt.legend()"
   ]
  },
  {
   "cell_type": "code",
   "execution_count": 13,
   "metadata": {},
   "outputs": [],
   "source": [
    "#自建召回率计算函数，每一Epochs都进行F1计算\n",
    "import numpy as np\n",
    "from keras.callbacks import Callback\n",
    "from sklearn.metrics import confusion_matrix, f1_score, precision_score, recall_score\n",
    "class Metrics(Callback):\n",
    "    def __init__(self, val_data, batch_size = 20):\n",
    "        super().__init__()\n",
    "        self.validation_data = val_data\n",
    "        self.batch_size = batch_size\n",
    "\n",
    "    def on_train_begin(self, logs={}):\n",
    "        self.val_f1s = []\n",
    "        self.val_recalls = []\n",
    "        self.val_precisions = []\n",
    " \n",
    "    def on_epoch_end(self, epoch, logs={}):\n",
    "        if epoch == 0:\n",
    "            return\n",
    "        val_predict = (np.asarray(self.model.predict(self.validation_data[0]))).round()\n",
    "        val_targ = self.validation_data[1]\n",
    "        _val_f1 = f1_score(val_targ, val_predict,average='weighted')\n",
    "        _val_recall = recall_score(val_targ, val_predict,average='weighted')\n",
    "        _val_precision = precision_score(val_targ, val_predict,average='weighted')\n",
    "        self.val_f1s.append(_val_f1)\n",
    "        self.val_recalls.append(_val_recall)\n",
    "        self.val_precisions.append(_val_precision)\n",
    "        print( ' — val_f1: %f — val_precision: %f — val_recall %f' %(_val_f1, _val_precision, _val_recall))\n",
    "        return\n",
    "    \n",
    "metrics = Metrics(\n",
    "    (gs_test, class_test), BATCH_SIZE\n",
    ")\n",
    "\n",
    "checkpoint = ModelCheckpoint(\n",
    "    MODEL_CHECKPOINT_FILE,\n",
    "    monitor='val_accuracy',\n",
    "    verbose=1,\n",
    "    save_best_only=True,\n",
    "    save_weights_only=False\n",
    ")\n",
    "earlyStopping=EarlyStopping(monitor='val_accuracy', patience=4, verbose=1, mode='max')\n",
    "callbacks_list = [checkpoint, earlyStopping, metrics]"
   ]
  },
  {
   "cell_type": "code",
   "execution_count": null,
   "metadata": {},
   "outputs": [],
   "source": [
    "# model = create_model(\n",
    "#     VAL_DROPOUT, NUM_FILTERS, KERNEL_SIZE,\n",
    "#     vocab_size, EMBEDDING_DIM, maxlen\n",
    "# )\n",
    "\n",
    "model = create_model_multi_conv(\n",
    "    VAL_DROPOUT, NUM_FILTERS, [2, 3, 4],\n",
    "    vocab_size, EMBEDDING_DIM, maxlen\n",
    ")\n",
    "\n",
    "checkpoint = ModelCheckpoint(\n",
    "    MODEL_CHECKPOINT_FILE,\n",
    "    monitor='val_accuracy',\n",
    "    verbose=1,\n",
    "    save_best_only=False,\n",
    "    save_weights_only=False\n",
    ")\n",
    "earlyStopping=EarlyStopping(monitor='val_accuracy', patience=4, verbose=1, mode='max')\n",
    "callbacks_list = [checkpoint, earlyStopping, metrics]\n",
    "\n",
    "history = model.fit(\n",
    "    gs_train, class_train,\n",
    "    epochs=EPOCHS,\n",
    "    verbose=True,\n",
    "    batch_size=BATCH_SIZE,\n",
    "    callbacks=callbacks_list,\n",
    "    validation_data=(gs_test, class_test)\n",
    ")\n",
    "\n",
    "model.summary()\n",
    "loss, accuracy = model.evaluate(gs_train, class_train, verbose=False)\n",
    "print(\"Training Accuracy: {:.4f}\".format(accuracy))\n",
    "print(\"Training Loss: {:.4f}\".format(loss))\n",
    "loss, accuracy = model.evaluate(gs_test, class_test, verbose=False)\n",
    "print(\"Testing Accuracy:  {:.4f}\".format(accuracy))\n",
    "print(\"Testing Loss:  {:.4f}\".format(loss))\n",
    "plot_history(history)\n",
    "plt.savefig(MODEL_STAT_FIG_FILE)\n",
    "model.save(MODEL_OP_FILE)"
   ]
  },
  {
   "cell_type": "markdown",
   "metadata": {},
   "source": [
    "# CNN 调参"
   ]
  },
  {
   "cell_type": "markdown",
   "metadata": {},
   "source": [
    "## 网格和随机网格调参"
   ]
  },
  {
   "cell_type": "code",
   "execution_count": 26,
   "metadata": {},
   "outputs": [],
   "source": [
    "def plot_grid_search(\n",
    "    cv_results, metric, grid_param_1, grid_param_2, name_param_1, name_param_2\n",
    "):\n",
    "    # Get Test Scores Mean and std for each grid search\n",
    "    scores_mean = cv_results[('mean_test_' + metric)]\n",
    "    scores_sd = cv_results[('std_test_' + metric)]\n",
    "\n",
    "    if grid_param_2 is not None:\n",
    "        scores_mean = np.array(scores_mean).reshape(len(grid_param_2),len(grid_param_1))\n",
    "        scores_sd = np.array(scores_sd).reshape(len(grid_param_2),len(grid_param_1))\n",
    "\n",
    "    # Set plot style\n",
    "    plt.style.use('seaborn')\n",
    "\n",
    "    # Plot Grid search scores\n",
    "    _, ax = plt.subplots(1, 1)\n",
    "\n",
    "    if grid_param_2 is not None:\n",
    "        # Param1 is the X-axis, Param 2 is represented as a different curve (color line)\n",
    "        for idx, val in enumerate(grid_param_2):\n",
    "            ax.plot(grid_param_1, scores_mean[idx,:], '-o', label= name_param_2 + ': ' + str(val))\n",
    "    else:\n",
    "        # If only one Param1 is given\n",
    "        ax.plot(grid_param_1, scores_mean, '-o')\n",
    "\n",
    "    ax.set_title(\"Grid Search\", fontsize=20, fontweight='normal')\n",
    "    ax.set_xlabel(name_param_1, fontsize=16)\n",
    "    ax.set_ylabel('CV Average ' + str.capitalize(metric), fontsize=16)\n",
    "    ax.legend(loc=\"best\", fontsize=15)\n",
    "    ax.grid('on')"
   ]
  },
  {
   "cell_type": "code",
   "execution_count": null,
   "metadata": {},
   "outputs": [],
   "source": [
    "# Parameter grid for grid search\n",
    "param_grid = dict(\n",
    "    val_dropout=[0.3, 0.5, 0.7],\n",
    "    num_filters=[64, 256, 512],\n",
    "    kernel_size=[2, 5, 11, 15],\n",
    "    vocab_size=[vocab_size],\n",
    "    embedding_dim=[EMBEDDING_DIM],\n",
    "    maxlen=[maxlen]\n",
    ")\n",
    "\n",
    "n_iter = 40\n",
    "\n",
    "model = KerasClassifier(\n",
    "    build_fn=create_model,\n",
    "    epochs=EPOCHS, batch_size=BATCH_SIZE,\n",
    "    verbose=True\n",
    ")\n",
    "\n",
    "grid = RandomizedSearchCV(\n",
    "    estimator=model, param_distributions=param_grid,\n",
    "    cv=4, verbose=1, n_iter=n_iter, n_jobs=-1\n",
    ")\n",
    "\n",
    "grid_result = grid.fit(gs_train, class_train)\n",
    "\n",
    "# Evaluate testing set\n",
    "test_accuracy = grid.score(gs_test, class_test)\n",
    "print(f\"test_accuracy={test_accuracy}\")\n",
    "print(f\"best_score={grid_result.best_score_}\")\n",
    "print(f\"best_params={grid_result.best_params_}\")\n",
    "grid.best_estimator_.model.save(\n",
    "    GRID_SEARCH_BEST_MODEL_FILE\n",
    ")\n",
    "\n",
    "pickle_op_file(grid_result.cv_results_, GRID_SEARCH_CV_RESULTS_FILE)\n",
    "\n",
    "actual_iters = grid_result.cv_results_[\"param_embedding_dim\"].shape[0]\n",
    "plot_grid_search(\n",
    "    grid_result.cv_results_,\n",
    "    'score',\n",
    "    # list(range(1, n_iter+1, 1)),\n",
    "    list(range(1, actual_iters+1, 1)),\n",
    "    [list(range(1, 2, 1))],\n",
    "    'iter',\n",
    "    'score'\n",
    ")\n",
    "\n",
    "plt.savefig(GRID_SEARCH_FIG_FILE)"
   ]
  },
  {
   "attachments": {},
   "cell_type": "markdown",
   "metadata": {},
   "source": [
    "## 贝叶斯优化 Model 1.0\n",
    "需要Keras Tuner + Python 3.6+ + TensorFlow 2.0+  \n",
    "pip install keras-tuner"
   ]
  },
  {
   "cell_type": "code",
   "execution_count": 87,
   "metadata": {},
   "outputs": [],
   "source": [
    "from keras_tuner import HyperParameters\n",
    "import keras_tuner"
   ]
  },
  {
   "cell_type": "code",
   "execution_count": null,
   "metadata": {},
   "outputs": [],
   "source": [
    "def create_model_multi_conv_1_0(hp):\n",
    "    hp_padding = hp.Choice('padding_type', values=['valid', 'same'])\n",
    "    hp_filters_num = hp.Choice('filters_num', values=[32, 64, 256, 512, 1024])\n",
    "    hp_size = hp.Choice('kernal_sizes', values=[2, 3, 4])\n",
    "    hp_val_dropout = hp.Choice('dropout', values=[0.3, 0.5, 0.7])\n",
    "    hp_learning_rate = hp.Choice('learning_rate', values=[1e-1, 1e-2, 1e-3])\n",
    "\n",
    "    opt = tf.keras.optimizers.Adam(\n",
    "        learning_rate=hp_learning_rate,\n",
    "        name=\"Adam\"\n",
    "    )\n",
    "\n",
    "    layer_inputs = layers.Input(shape=(maxlen, ), dtype='int32', name=\"input0\")\n",
    "\n",
    "    layer_embedding = layers.Embedding(\n",
    "        vocab_size, EMBEDDING_DIM,\n",
    "        weights=[word2vec_matrix],\n",
    "        input_length=maxlen,\n",
    "        trainable=True,\n",
    "        name=\"embedding\"\n",
    "    )(layer_inputs)\n",
    "\n",
    "    layer_conv_0 = layers.Conv1D(\n",
    "        hp_filters_num, hp_size - 1, activation='relu', padding=hp_padding, name='conv_0'\n",
    "    )(layer_embedding)\n",
    "    layer_conv_1 = layers.Conv1D(\n",
    "        hp_filters_num, hp_size, activation='relu', padding=hp_padding, name='conv_1'\n",
    "    )(layer_embedding)\n",
    "    layer_conv_2 = layers.Conv1D(\n",
    "        hp_filters_num, hp_size + 2, activation='relu', padding=hp_padding, name='conv_2'\n",
    "    )(layer_embedding)\n",
    "\n",
    "    layer_conv_0 = layers.Dropout(hp_val_dropout)(layer_conv_0)\n",
    "    layer_conv_1 = layers.Dropout(hp_val_dropout)(layer_conv_1)\n",
    "    layer_conv_2 = layers.Dropout(hp_val_dropout)(layer_conv_2)\n",
    "\n",
    "    layer_maxpool_0 = layers.GlobalMaxPooling1D()(layer_conv_0)\n",
    "    layer_maxpool_1 = layers.GlobalMaxPooling1D()(layer_conv_1)\n",
    "    layer_maxpool_2 = layers.GlobalMaxPooling1D()(layer_conv_2)\n",
    "\n",
    "    layer_concatenated_tensor = layers.Concatenate(axis=1)([\n",
    "        layer_maxpool_0, layer_maxpool_1, layer_maxpool_2\n",
    "    ])\n",
    "\n",
    "    layer_flatten = layers.Flatten()(layer_concatenated_tensor)\n",
    "    layer_dropout = layers.Dropout(hp_val_dropout)(layer_flatten)\n",
    "\n",
    "    layer_dense = layers.Dense(512, activation='relu')(layer_dropout)\n",
    "    layer_dense = layers.Dense(256, activation='relu')(layer_dense)\n",
    "    layer_dense = layers.Dense(45, activation='softmax')(layer_dense)\n",
    "\n",
    "    model = Model(inputs=layer_inputs, outputs=layer_dense)\n",
    "\n",
    "    model.compile(\n",
    "        # optimizer='adam',\n",
    "        optimizer=opt,\n",
    "        # loss='binary_crossentropy',\n",
    "        loss='categorical_crossentropy',\n",
    "        metrics=['accuracy']\n",
    "        # metrics=['mse']\n",
    "    )\n",
    "\n",
    "    return model\n",
    "\n",
    "tuner_cnn = keras_tuner.tuners.BayesianOptimization(\n",
    "    create_model_multi_conv,\n",
    "    objective='val_loss',\n",
    "    max_trials=30,\n",
    "    directory='.',\n",
    "    project_name='tuning-cnn'\n",
    ")\n",
    "\n",
    "tuner_cnn.search(\n",
    "    gs_train,\n",
    "    class_train,\n",
    "    epochs=EPOCHS,\n",
    "    batch_size=BATCH_SIZE,\n",
    "    validation_data=(gs_test, class_test),\n",
    "    callbacks=callbacks_list\n",
    ")\n",
    "\n",
    "best_mlp_hyperparameters = tuner_cnn.get_best_hyperparameters(1)[0]\n",
    "print(\"Best Hyper-parameters\")\n",
    "print(best_mlp_hyperparameters.values)\n",
    "\n",
    "best_model = tuner_cnn.get_best_models()\n",
    "best_model[0].summary()\n",
    "\n",
    "\"\"\"\n",
    "Best Hyper-parameters\n",
    "{'padding_type': 'same', 'filters_num': 1024, 'kernal_sizes': 4, 'dropout': 0.3, 'learning_rate': 0.001}\n",
    "\"\"\"\n",
    "\n"
   ]
  },
  {
   "cell_type": "markdown",
   "metadata": {},
   "source": [
    "### tranin the model with best hyper-parameter"
   ]
  },
  {
   "cell_type": "code",
   "execution_count": null,
   "metadata": {},
   "outputs": [],
   "source": [
    "best_model = tuner_cnn.hypermodel.build(best_mlp_hyperparameters)\n",
    "history = best_model.fit(\n",
    "    gs_train, class_train,\n",
    "    epochs=EPOCHS,\n",
    "    verbose=True,\n",
    "    batch_size=BATCH_SIZE,\n",
    "    callbacks=callbacks_list,\n",
    "    validation_data=(gs_test, class_test)\n",
    ")"
   ]
  },
  {
   "attachments": {},
   "cell_type": "markdown",
   "metadata": {},
   "source": [
    "## 贝叶斯优化 Model 1.1"
   ]
  },
  {
   "cell_type": "code",
   "execution_count": null,
   "metadata": {},
   "outputs": [],
   "source": [
    "from keras_tuner import HyperParameters\n",
    "import keras_tuner"
   ]
  },
  {
   "cell_type": "code",
   "execution_count": null,
   "metadata": {},
   "outputs": [],
   "source": [
    "def create_model_multi_conv_1_1(hp):\n",
    "    hp_filters_num = hp.Choice('filters_num', values=[32, 64, 256, 512, 1024])\n",
    "    hp_size = hp.Choice('kernal_sizes', values=[2, 3, 4])\n",
    "    hp_val_dropout = hp.Choice('dropout', values=[0.3, 0.5, 0.7])\n",
    "    hp_learning_rate = hp.Choice('learning_rate', values=[1e-1, 1e-2, 1e-3])\n",
    "\n",
    "    opt = tf.keras.optimizers.Adam(\n",
    "        learning_rate=hp_learning_rate,\n",
    "        name=\"Adam\"\n",
    "    )\n",
    "\n",
    "    layer_inputs = layers.Input(shape=(maxlen, ), dtype='int32', name=\"input0\")\n",
    "\n",
    "    layer_embedding = layers.Embedding(\n",
    "        vocab_size, EMBEDDING_DIM,\n",
    "        weights=[word2vec_matrix],\n",
    "        input_length=maxlen,\n",
    "        trainable=True,\n",
    "        name=\"embedding\"\n",
    "    )(layer_inputs)\n",
    "\n",
    "    layer_conv_0 = layers.Conv1D(\n",
    "        hp_filters_num, hp_size - 1, activation='relu', padding='same', name='conv_0'\n",
    "    )(layer_embedding)\n",
    "    layer_conv_1 = layers.Conv1D(\n",
    "        hp_filters_num, hp_size, activation='relu', padding='same', name='conv_1'\n",
    "    )(layer_embedding)\n",
    "    layer_conv_2 = layers.Conv1D(\n",
    "        hp_filters_num, hp_size + 1, activation='relu', padding='same', name='conv_2'\n",
    "    )(layer_embedding)\n",
    "\n",
    "    layer_conv_0 = layers.Dropout(hp_val_dropout)(layer_conv_0)\n",
    "    layer_conv_1 = layers.Dropout(hp_val_dropout)(layer_conv_1)\n",
    "    layer_conv_2 = layers.Dropout(hp_val_dropout)(layer_conv_2)\n",
    "\n",
    "    layer_maxpool_0 = layers.GlobalMaxPooling1D()(layer_conv_0)\n",
    "    layer_maxpool_1 = layers.GlobalMaxPooling1D()(layer_conv_1)\n",
    "    layer_maxpool_2 = layers.GlobalMaxPooling1D()(layer_conv_2)\n",
    "\n",
    "    layer_concatenated_tensor = layers.Concatenate(axis=1)([\n",
    "        layer_maxpool_0, layer_maxpool_1, layer_maxpool_2\n",
    "    ])\n",
    "\n",
    "    layer_flatten = layers.Flatten()(layer_concatenated_tensor)\n",
    "    layer_dropout = layers.Dropout(hp_val_dropout)(layer_flatten)\n",
    "\n",
    "    layer_dense = layers.Dense(45, activation='softmax')(layer_dropout)\n",
    "\n",
    "    model = Model(inputs=layer_inputs, outputs=layer_dense)\n",
    "\n",
    "    model.compile(\n",
    "        optimizer=opt,\n",
    "        loss='categorical_crossentropy',\n",
    "        metrics=['accuracy']\n",
    "    )\n",
    "\n",
    "    return model\n",
    "\n",
    "tuner_cnn = keras_tuner.tuners.BayesianOptimization(\n",
    "    create_model_multi_conv,\n",
    "    objective='val_loss',\n",
    "    max_trials=50,\n",
    "    directory='.',\n",
    "    project_name='tuning-cnn'\n",
    ")\n",
    "\n",
    "tuner_cnn.search(\n",
    "    gs_train,\n",
    "    class_train,\n",
    "    epochs=EPOCHS,\n",
    "    batch_size=BATCH_SIZE,\n",
    "    validation_data=(gs_test, class_test),\n",
    "    callbacks=callbacks_list\n",
    ")\n",
    "\n",
    "best_mlp_hyperparameters = tuner_cnn.get_best_hyperparameters(1)[0]\n",
    "print(\"Best Hyper-parameters\")\n",
    "print(best_mlp_hyperparameters.values)\n",
    "\n",
    "best_model = tuner_cnn.get_best_models()\n",
    "best_model[0].summary()\n",
    "\n",
    "\"\"\"\n",
    "Best Hyper-parameters\n",
    "{'padding_type': 'same', 'filters_num': 1024, 'kernal_sizes': 4, 'dropout': 0.3, 'learning_rate': 0.001}\n",
    "\"\"\"\n",
    "\n"
   ]
  },
  {
   "cell_type": "markdown",
   "metadata": {},
   "source": [
    "### tranin the model with best hyper-parameter"
   ]
  },
  {
   "cell_type": "code",
   "execution_count": null,
   "metadata": {},
   "outputs": [],
   "source": [
    "best_model = tuner_cnn.hypermodel.build(best_mlp_hyperparameters)\n",
    "history = best_model.fit(\n",
    "    gs_train, class_train,\n",
    "    epochs=EPOCHS,\n",
    "    verbose=True,\n",
    "    batch_size=BATCH_SIZE,\n",
    "    callbacks=callbacks_list,\n",
    "    validation_data=(gs_test, class_test)\n",
    ")"
   ]
  },
  {
   "attachments": {},
   "cell_type": "markdown",
   "metadata": {},
   "source": [
    "## 固定参数的model（from 贝叶斯优化的结果）"
   ]
  },
  {
   "cell_type": "code",
   "execution_count": 15,
   "metadata": {},
   "outputs": [],
   "source": [
    "def create_model_multi_conv_1_1():\n",
    "    \n",
    "    opt = tf.keras.optimizers.Adam(\n",
    "        learning_rate=1e-3,\n",
    "        name=\"Adam\"\n",
    "    )\n",
    "\n",
    "    layer_inputs = layers.Input(shape=(maxlen, ), dtype='int32', name=\"input0\")\n",
    "\n",
    "    layer_embedding = layers.Embedding(\n",
    "        vocab_size, EMBEDDING_DIM,\n",
    "        weights=[word2vec_matrix],\n",
    "        input_length=maxlen,\n",
    "        trainable=True,\n",
    "        name=\"embedding\"\n",
    "    )(layer_inputs)\n",
    "\n",
    "    layer_conv_0 = layers.Conv1D(\n",
    "        512, 3, activation='relu', padding='same', name='conv_0', kernel_regularizer=regularizers.l2(0.0015)\n",
    "    )(layer_embedding)\n",
    "    layer_conv_1 = layers.Conv1D(\n",
    "        512, 4, activation='relu', padding='same', name='conv_1', kernel_regularizer=regularizers.l2(0.0015)\n",
    "    )(layer_embedding)\n",
    "    layer_conv_2 = layers.Conv1D(\n",
    "        512, 5, activation='relu', padding='same', name='conv_2', kernel_regularizer=regularizers.l2(0.0015)\n",
    "    )(layer_embedding)\n",
    "\n",
    "    layer_conv_0 = layers.Dropout(0.5)(layer_conv_0)\n",
    "    layer_conv_1 = layers.Dropout(0.5)(layer_conv_1)\n",
    "    layer_conv_2 = layers.Dropout(0.5)(layer_conv_2)\n",
    "\n",
    "    layer_maxpool_0 = layers.GlobalMaxPooling1D()(layer_conv_0)\n",
    "    layer_maxpool_1 = layers.GlobalMaxPooling1D()(layer_conv_1)\n",
    "    layer_maxpool_2 = layers.GlobalMaxPooling1D()(layer_conv_2)\n",
    "\n",
    "    layer_concatenated_tensor = layers.Concatenate(axis=1)([\n",
    "        layer_maxpool_0, layer_maxpool_1, layer_maxpool_2\n",
    "    ])\n",
    "\n",
    "    layer_flatten = layers.Flatten()(layer_concatenated_tensor)\n",
    "    layer_dropout = layers.Dropout(0.5)(layer_flatten)\n",
    "\n",
    "    layer_dense = layers.Dense(512, activation='relu')(layer_dropout)\n",
    "    layer_dropout = layers.Dropout(0.5)(layer_dense)\n",
    "    layer_dense = layers.Dense(256, activation='relu')(layer_dropout)\n",
    "    layer_dropout = layers.Dropout(0.5)(layer_dense)\n",
    "    layer_dense = layers.Dense(45, activation='softmax')(layer_dropout)\n",
    "\n",
    "    model = Model(inputs=layer_inputs, outputs=layer_dense)\n",
    "\n",
    "    model.compile(\n",
    "        optimizer=opt,\n",
    "        loss='categorical_crossentropy',\n",
    "        metrics=['accuracy']\n",
    "    )\n",
    "\n",
    "    return model\n"
   ]
  },
  {
   "cell_type": "code",
   "execution_count": 16,
   "metadata": {},
   "outputs": [
    {
     "name": "stdout",
     "output_type": "stream",
     "text": [
      "Metal device set to: Apple M1 Pro\n",
      "\n",
      "systemMemory: 16.00 GB\n",
      "maxCacheSize: 5.33 GB\n",
      "\n"
     ]
    },
    {
     "name": "stderr",
     "output_type": "stream",
     "text": [
      "2022-12-30 10:42:11.539604: I tensorflow/core/common_runtime/pluggable_device/pluggable_device_factory.cc:305] Could not identify NUMA node of platform GPU ID 0, defaulting to 0. Your kernel may not have been built with NUMA support.\n",
      "2022-12-30 10:42:11.539757: I tensorflow/core/common_runtime/pluggable_device/pluggable_device_factory.cc:271] Created TensorFlow device (/job:localhost/replica:0/task:0/device:GPU:0 with 0 MB memory) -> physical PluggableDevice (device: 0, name: METAL, pci bus id: <undefined>)\n"
     ]
    },
    {
     "name": "stdout",
     "output_type": "stream",
     "text": [
      "Epoch 1/30\n"
     ]
    },
    {
     "name": "stderr",
     "output_type": "stream",
     "text": [
      "2022-12-30 10:42:11.825065: W tensorflow/core/platform/profile_utils/cpu_utils.cc:128] Failed to get CPU frequency: 0 Hz\n",
      "2022-12-30 10:42:12.250677: I tensorflow/core/grappler/optimizers/custom_graph_optimizer_registry.cc:113] Plugin optimizer for device_type GPU is enabled.\n"
     ]
    },
    {
     "name": "stdout",
     "output_type": "stream",
     "text": [
      "688/688 [==============================] - ETA: 0s - loss: 2.7644 - accuracy: 0.4604"
     ]
    },
    {
     "name": "stderr",
     "output_type": "stream",
     "text": [
      "2022-12-30 10:42:54.784293: I tensorflow/core/grappler/optimizers/custom_graph_optimizer_registry.cc:113] Plugin optimizer for device_type GPU is enabled.\n"
     ]
    },
    {
     "name": "stdout",
     "output_type": "stream",
     "text": [
      "\n",
      "Epoch 1: val_accuracy improved from -inf to 0.64144, saving model to training/us_01/cnn_model-01-0.64.hdf5\n",
      "688/688 [==============================] - 50s 70ms/step - loss: 2.7644 - accuracy: 0.4604 - val_loss: 2.2603 - val_accuracy: 0.6414\n",
      "Epoch 2/30\n",
      "688/688 [==============================] - ETA: 0s - loss: 1.5795 - accuracy: 0.7110\n",
      "Epoch 2: val_accuracy improved from 0.64144 to 0.72278, saving model to training/us_01/cnn_model-02-0.72.hdf5\n",
      " 11/282 [>.............................] - ETA: 3s"
     ]
    },
    {
     "name": "stderr",
     "output_type": "stream",
     "text": [
      "2022-12-30 10:43:48.472514: I tensorflow/core/grappler/optimizers/custom_graph_optimizer_registry.cc:113] Plugin optimizer for device_type GPU is enabled.\n"
     ]
    },
    {
     "name": "stdout",
     "output_type": "stream",
     "text": [
      "282/282 [==============================] - 4s 12ms/step\n",
      " — val_f1: 0.312462 — val_precision: 0.823469 — val_recall 0.229667\n",
      "688/688 [==============================] - 50s 73ms/step - loss: 1.5795 - accuracy: 0.7110 - val_loss: 2.0935 - val_accuracy: 0.7228\n",
      "Epoch 3/30\n",
      "  2/688 [..............................] - ETA: 44s - loss: 1.0959 - accuracy: 0.8438 "
     ]
    },
    {
     "name": "stderr",
     "output_type": "stream",
     "text": [
      "/Users/vincentcheng/miniforge3/envs/tm_nlp/lib/python3.8/site-packages/sklearn/metrics/_classification.py:1334: UndefinedMetricWarning: Precision is ill-defined and being set to 0.0 in labels with no predicted samples. Use `zero_division` parameter to control this behavior.\n",
      "  _warn_prf(average, modifier, msg_start, len(result))\n"
     ]
    },
    {
     "name": "stdout",
     "output_type": "stream",
     "text": [
      "688/688 [==============================] - ETA: 0s - loss: 1.2061 - accuracy: 0.8078\n",
      "Epoch 3: val_accuracy improved from 0.72278 to 0.74178, saving model to training/us_01/cnn_model-03-0.74.hdf5\n",
      "282/282 [==============================] - 3s 12ms/step\n",
      " — val_f1: 0.515110 — val_precision: 0.834157 — val_recall 0.409111\n",
      "688/688 [==============================] - 50s 73ms/step - loss: 1.2061 - accuracy: 0.8078 - val_loss: 1.8145 - val_accuracy: 0.7418\n",
      "Epoch 4/30\n",
      "  2/688 [..............................] - ETA: 41s - loss: 1.2006 - accuracy: 0.8125 "
     ]
    },
    {
     "name": "stderr",
     "output_type": "stream",
     "text": [
      "/Users/vincentcheng/miniforge3/envs/tm_nlp/lib/python3.8/site-packages/sklearn/metrics/_classification.py:1334: UndefinedMetricWarning: Precision is ill-defined and being set to 0.0 in labels with no predicted samples. Use `zero_division` parameter to control this behavior.\n",
      "  _warn_prf(average, modifier, msg_start, len(result))\n"
     ]
    },
    {
     "name": "stdout",
     "output_type": "stream",
     "text": [
      "687/688 [============================>.] - ETA: 0s - loss: 1.0215 - accuracy: 0.8523\n",
      "Epoch 4: val_accuracy improved from 0.74178 to 0.74822, saving model to training/us_01/cnn_model-04-0.75.hdf5\n",
      "282/282 [==============================] - 3s 12ms/step\n",
      " — val_f1: 0.532527 — val_precision: 0.870858 — val_recall 0.420444\n",
      "688/688 [==============================] - 50s 73ms/step - loss: 1.0224 - accuracy: 0.8522 - val_loss: 1.7104 - val_accuracy: 0.7482\n",
      "Epoch 5/30\n",
      "  2/688 [..............................] - ETA: 45s - loss: 0.8193 - accuracy: 0.9375 "
     ]
    },
    {
     "name": "stderr",
     "output_type": "stream",
     "text": [
      "/Users/vincentcheng/miniforge3/envs/tm_nlp/lib/python3.8/site-packages/sklearn/metrics/_classification.py:1334: UndefinedMetricWarning: Precision is ill-defined and being set to 0.0 in labels with no predicted samples. Use `zero_division` parameter to control this behavior.\n",
      "  _warn_prf(average, modifier, msg_start, len(result))\n"
     ]
    },
    {
     "name": "stdout",
     "output_type": "stream",
     "text": [
      "688/688 [==============================] - ETA: 0s - loss: 0.8659 - accuracy: 0.8813\n",
      "Epoch 5: val_accuracy did not improve from 0.74822\n",
      "282/282 [==============================] - 3s 12ms/step\n",
      " — val_f1: 0.599876 — val_precision: 0.888522 — val_recall 0.481000\n",
      "688/688 [==============================] - 49s 71ms/step - loss: 0.8659 - accuracy: 0.8813 - val_loss: 1.6540 - val_accuracy: 0.7411\n",
      "Epoch 6/30\n",
      "  2/688 [..............................] - ETA: 47s - loss: 0.6362 - accuracy: 0.9688"
     ]
    },
    {
     "name": "stderr",
     "output_type": "stream",
     "text": [
      "/Users/vincentcheng/miniforge3/envs/tm_nlp/lib/python3.8/site-packages/sklearn/metrics/_classification.py:1334: UndefinedMetricWarning: Precision is ill-defined and being set to 0.0 in labels with no predicted samples. Use `zero_division` parameter to control this behavior.\n",
      "  _warn_prf(average, modifier, msg_start, len(result))\n"
     ]
    },
    {
     "name": "stdout",
     "output_type": "stream",
     "text": [
      "688/688 [==============================] - ETA: 0s - loss: 0.8342 - accuracy: 0.8963\n",
      "Epoch 6: val_accuracy did not improve from 0.74822\n",
      "282/282 [==============================] - 3s 12ms/step\n",
      " — val_f1: 0.606477 — val_precision: 0.873422 — val_recall 0.491111\n",
      "688/688 [==============================] - 48s 70ms/step - loss: 0.8342 - accuracy: 0.8963 - val_loss: 1.6307 - val_accuracy: 0.7429\n",
      "Epoch 7/30\n",
      "  2/688 [..............................] - ETA: 49s - loss: 0.6489 - accuracy: 0.9688 "
     ]
    },
    {
     "name": "stderr",
     "output_type": "stream",
     "text": [
      "/Users/vincentcheng/miniforge3/envs/tm_nlp/lib/python3.8/site-packages/sklearn/metrics/_classification.py:1334: UndefinedMetricWarning: Precision is ill-defined and being set to 0.0 in labels with no predicted samples. Use `zero_division` parameter to control this behavior.\n",
      "  _warn_prf(average, modifier, msg_start, len(result))\n"
     ]
    },
    {
     "name": "stdout",
     "output_type": "stream",
     "text": [
      "688/688 [==============================] - ETA: 0s - loss: 0.7365 - accuracy: 0.9153\n",
      "Epoch 7: val_accuracy did not improve from 0.74822\n",
      "282/282 [==============================] - 3s 12ms/step\n",
      " — val_f1: 0.643557 — val_precision: 0.880054 — val_recall 0.526778\n",
      "688/688 [==============================] - 47s 69ms/step - loss: 0.7365 - accuracy: 0.9153 - val_loss: 1.5531 - val_accuracy: 0.7444\n",
      "Epoch 8/30\n",
      "  2/688 [..............................] - ETA: 52s - loss: 0.6950 - accuracy: 0.9062 "
     ]
    },
    {
     "name": "stderr",
     "output_type": "stream",
     "text": [
      "/Users/vincentcheng/miniforge3/envs/tm_nlp/lib/python3.8/site-packages/sklearn/metrics/_classification.py:1334: UndefinedMetricWarning: Precision is ill-defined and being set to 0.0 in labels with no predicted samples. Use `zero_division` parameter to control this behavior.\n",
      "  _warn_prf(average, modifier, msg_start, len(result))\n"
     ]
    },
    {
     "name": "stdout",
     "output_type": "stream",
     "text": [
      "687/688 [============================>.] - ETA: 0s - loss: 0.7166 - accuracy: 0.9195\n",
      "Epoch 8: val_accuracy improved from 0.74822 to 0.75400, saving model to training/us_01/cnn_model-08-0.75.hdf5\n",
      "282/282 [==============================] - 3s 12ms/step\n",
      " — val_f1: 0.675800 — val_precision: 0.889002 — val_recall 0.569000\n",
      "688/688 [==============================] - 47s 69ms/step - loss: 0.7168 - accuracy: 0.9195 - val_loss: 1.4967 - val_accuracy: 0.7540\n",
      "Epoch 9/30\n",
      "  2/688 [..............................] - ETA: 37s - loss: 0.4821 - accuracy: 1.0000 "
     ]
    },
    {
     "name": "stderr",
     "output_type": "stream",
     "text": [
      "/Users/vincentcheng/miniforge3/envs/tm_nlp/lib/python3.8/site-packages/sklearn/metrics/_classification.py:1334: UndefinedMetricWarning: Precision is ill-defined and being set to 0.0 in labels with no predicted samples. Use `zero_division` parameter to control this behavior.\n",
      "  _warn_prf(average, modifier, msg_start, len(result))\n"
     ]
    },
    {
     "name": "stdout",
     "output_type": "stream",
     "text": [
      "687/688 [============================>.] - ETA: 0s - loss: 0.6517 - accuracy: 0.9304\n",
      "Epoch 9: val_accuracy did not improve from 0.75400\n",
      "282/282 [==============================] - 3s 12ms/step\n",
      " — val_f1: 0.673361 — val_precision: 0.868802 — val_recall 0.577667\n",
      "688/688 [==============================] - 47s 69ms/step - loss: 0.6521 - accuracy: 0.9302 - val_loss: 1.4802 - val_accuracy: 0.7369\n",
      "Epoch 10/30\n",
      "  3/688 [..............................] - ETA: 35s - loss: 0.5569 - accuracy: 0.9375"
     ]
    },
    {
     "name": "stderr",
     "output_type": "stream",
     "text": [
      "/Users/vincentcheng/miniforge3/envs/tm_nlp/lib/python3.8/site-packages/sklearn/metrics/_classification.py:1334: UndefinedMetricWarning: Precision is ill-defined and being set to 0.0 in labels with no predicted samples. Use `zero_division` parameter to control this behavior.\n",
      "  _warn_prf(average, modifier, msg_start, len(result))\n"
     ]
    },
    {
     "name": "stdout",
     "output_type": "stream",
     "text": [
      "687/688 [============================>.] - ETA: 0s - loss: 0.6789 - accuracy: 0.9255\n",
      "Epoch 10: val_accuracy did not improve from 0.75400\n",
      "282/282 [==============================] - 3s 12ms/step\n",
      " — val_f1: 0.672768 — val_precision: 0.860650 — val_recall 0.575000\n",
      "688/688 [==============================] - 46s 67ms/step - loss: 0.6787 - accuracy: 0.9255 - val_loss: 1.5002 - val_accuracy: 0.7373\n",
      "Epoch 11/30\n",
      "  2/688 [..............................] - ETA: 35s - loss: 0.4533 - accuracy: 1.0000 "
     ]
    },
    {
     "name": "stderr",
     "output_type": "stream",
     "text": [
      "/Users/vincentcheng/miniforge3/envs/tm_nlp/lib/python3.8/site-packages/sklearn/metrics/_classification.py:1334: UndefinedMetricWarning: Precision is ill-defined and being set to 0.0 in labels with no predicted samples. Use `zero_division` parameter to control this behavior.\n",
      "  _warn_prf(average, modifier, msg_start, len(result))\n"
     ]
    },
    {
     "name": "stdout",
     "output_type": "stream",
     "text": [
      "688/688 [==============================] - ETA: 0s - loss: 0.6020 - accuracy: 0.9365\n",
      "Epoch 11: val_accuracy did not improve from 0.75400\n",
      "282/282 [==============================] - 3s 12ms/step\n",
      " — val_f1: 0.665726 — val_precision: 0.877476 — val_recall 0.558778\n",
      "688/688 [==============================] - 47s 68ms/step - loss: 0.6020 - accuracy: 0.9365 - val_loss: 1.5275 - val_accuracy: 0.7308\n",
      "Epoch 12/30\n",
      "  3/688 [..............................] - ETA: 35s - loss: 0.6111 - accuracy: 0.9167"
     ]
    },
    {
     "name": "stderr",
     "output_type": "stream",
     "text": [
      "/Users/vincentcheng/miniforge3/envs/tm_nlp/lib/python3.8/site-packages/sklearn/metrics/_classification.py:1334: UndefinedMetricWarning: Precision is ill-defined and being set to 0.0 in labels with no predicted samples. Use `zero_division` parameter to control this behavior.\n",
      "  _warn_prf(average, modifier, msg_start, len(result))\n"
     ]
    },
    {
     "name": "stdout",
     "output_type": "stream",
     "text": [
      "687/688 [============================>.] - ETA: 0s - loss: 0.6375 - accuracy: 0.9355\n",
      "Epoch 12: val_accuracy did not improve from 0.75400\n",
      "282/282 [==============================] - 3s 12ms/step\n",
      " — val_f1: 0.690429 — val_precision: 0.867997 — val_recall 0.592778\n",
      "688/688 [==============================] - 46s 67ms/step - loss: 0.6375 - accuracy: 0.9355 - val_loss: 1.4937 - val_accuracy: 0.7381\n",
      "Epoch 12: early stopping\n",
      "Model: \"model\"\n",
      "__________________________________________________________________________________________________\n",
      " Layer (type)                   Output Shape         Param #     Connected to                     \n",
      "==================================================================================================\n",
      " input0 (InputLayer)            [(None, 100)]        0           []                               \n",
      "                                                                                                  \n",
      " embedding (Embedding)          (None, 100, 300)     27180300    ['input0[0][0]']                 \n",
      "                                                                                                  \n",
      " conv_0 (Conv1D)                (None, 100, 512)     461312      ['embedding[0][0]']              \n",
      "                                                                                                  \n",
      " conv_1 (Conv1D)                (None, 100, 512)     614912      ['embedding[0][0]']              \n",
      "                                                                                                  \n",
      " conv_2 (Conv1D)                (None, 100, 512)     768512      ['embedding[0][0]']              \n",
      "                                                                                                  \n",
      " dropout (Dropout)              (None, 100, 512)     0           ['conv_0[0][0]']                 \n",
      "                                                                                                  \n",
      " dropout_1 (Dropout)            (None, 100, 512)     0           ['conv_1[0][0]']                 \n",
      "                                                                                                  \n",
      " dropout_2 (Dropout)            (None, 100, 512)     0           ['conv_2[0][0]']                 \n",
      "                                                                                                  \n",
      " global_max_pooling1d (GlobalMa  (None, 512)         0           ['dropout[0][0]']                \n",
      " xPooling1D)                                                                                      \n",
      "                                                                                                  \n",
      " global_max_pooling1d_1 (Global  (None, 512)         0           ['dropout_1[0][0]']              \n",
      " MaxPooling1D)                                                                                    \n",
      "                                                                                                  \n",
      " global_max_pooling1d_2 (Global  (None, 512)         0           ['dropout_2[0][0]']              \n",
      " MaxPooling1D)                                                                                    \n",
      "                                                                                                  \n",
      " concatenate (Concatenate)      (None, 1536)         0           ['global_max_pooling1d[0][0]',   \n",
      "                                                                  'global_max_pooling1d_1[0][0]', \n",
      "                                                                  'global_max_pooling1d_2[0][0]'] \n",
      "                                                                                                  \n",
      " flatten (Flatten)              (None, 1536)         0           ['concatenate[0][0]']            \n",
      "                                                                                                  \n",
      " dropout_3 (Dropout)            (None, 1536)         0           ['flatten[0][0]']                \n",
      "                                                                                                  \n",
      " dense (Dense)                  (None, 512)          786944      ['dropout_3[0][0]']              \n",
      "                                                                                                  \n",
      " dropout_4 (Dropout)            (None, 512)          0           ['dense[0][0]']                  \n",
      "                                                                                                  \n",
      " dense_1 (Dense)                (None, 256)          131328      ['dropout_4[0][0]']              \n",
      "                                                                                                  \n",
      " dropout_5 (Dropout)            (None, 256)          0           ['dense_1[0][0]']                \n",
      "                                                                                                  \n",
      " dense_2 (Dense)                (None, 45)           11565       ['dropout_5[0][0]']              \n",
      "                                                                                                  \n",
      "==================================================================================================\n",
      "Total params: 29,954,873\n",
      "Trainable params: 29,954,873\n",
      "Non-trainable params: 0\n",
      "__________________________________________________________________________________________________\n"
     ]
    },
    {
     "name": "stderr",
     "output_type": "stream",
     "text": [
      "/Users/vincentcheng/miniforge3/envs/tm_nlp/lib/python3.8/site-packages/sklearn/metrics/_classification.py:1334: UndefinedMetricWarning: Precision is ill-defined and being set to 0.0 in labels with no predicted samples. Use `zero_division` parameter to control this behavior.\n",
      "  _warn_prf(average, modifier, msg_start, len(result))\n"
     ]
    },
    {
     "name": "stdout",
     "output_type": "stream",
     "text": [
      "Training Accuracy: 0.9739\n",
      "Training Loss: 0.7036\n",
      "Testing Accuracy:  0.7381\n",
      "Testing Loss:  1.4937\n"
     ]
    },
    {
     "data": {
      "image/png": "[encoded data removed]",
      "text/plain": [
       "<Figure size 1200x500 with 2 Axes>"
      ]
     },
     "metadata": {},
     "output_type": "display_data"
    }
   ],
   "source": [
    "model = create_model_multi_conv_1_1()\n",
    "# model = create_model(0.5, 256, 3, 90601, 300, 100)\n",
    "\n",
    "history = model.fit(\n",
    "    gs_train, class_train,\n",
    "    epochs=EPOCHS,\n",
    "    verbose=True,\n",
    "    batch_size=BATCH_SIZE,\n",
    "    callbacks=callbacks_list,\n",
    "    validation_data=(gs_test, class_test),\n",
    "    shuffle=True,\n",
    ")\n",
    "\n",
    "model.summary()\n",
    "loss, accuracy = model.evaluate(gs_train, class_train, verbose=False)\n",
    "print(\"Training Accuracy: {:.4f}\".format(accuracy))\n",
    "print(\"Training Loss: {:.4f}\".format(loss))\n",
    "loss, accuracy = model.evaluate(gs_test, class_test, verbose=False)\n",
    "print(\"Testing Accuracy:  {:.4f}\".format(accuracy))\n",
    "print(\"Testing Loss:  {:.4f}\".format(loss))\n",
    "plot_history(history)\n",
    "plt.savefig(MODEL_STAT_FIG_FILE)\n",
    "model.save(MODEL_OP_FILE)"
   ]
  },
  {
   "cell_type": "markdown",
   "metadata": {},
   "source": [
    "# Temporary Code"
   ]
  },
  {
   "cell_type": "code",
   "execution_count": 5,
   "metadata": {},
   "outputs": [
    {
     "data": {
      "text/plain": [
       "34149"
      ]
     },
     "execution_count": 5,
     "metadata": {},
     "output_type": "execute_result"
    }
   ],
   "source": [
    "np.count_nonzero(\n",
    "    np.count_nonzero(word2vec_matrix, axis=1)\n",
    ")\n"
   ]
  },
  {
   "cell_type": "code",
   "execution_count": 7,
   "metadata": {},
   "outputs": [
    {
     "data": {
      "text/plain": [
       "(90601, 300)"
      ]
     },
     "execution_count": 7,
     "metadata": {},
     "output_type": "execute_result"
    }
   ],
   "source": [
    "word2vec_matrix.shape"
   ]
  }
 ],
 "metadata": {
  "kernelspec": {
   "display_name": "Python 3.8.13 ('tm_nlp')",
   "language": "python",
   "name": "python3"
  },
  "language_info": {
   "codemirror_mode": {
    "name": "ipython",
    "version": 3
   },
   "file_extension": ".py",
   "mimetype": "text/x-python",
   "name": "python",
   "nbconvert_exporter": "python",
   "pygments_lexer": "ipython3",
   "version": "3.8.13"
  },
  "orig_nbformat": 4,
  "vscode": {
   "interpreter": {
    "hash": "ed6a63b888fcb7d5f9ca97fbfdb77660060e60ab923755bd2b1564545ea9c047"
   }
  }
 },
 "nbformat": 4,
 "nbformat_minor": 2
}
