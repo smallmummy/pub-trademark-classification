{
 "cells": [
  {
   "cell_type": "markdown",
   "metadata": {},
   "source": [
    "# predict based on trained model"
   ]
  },
  {
   "cell_type": "code",
   "execution_count": null,
   "metadata": {},
   "outputs": [],
   "source": [
    "%store -r MODEL_OP_FILE\n",
    "%store -r TOKENIZER_FILE\n",
    "%store -r MAXLEN\n",
    "# from keras.models import load_model\n",
    "import tensorflow as tf\n",
    "from keras_preprocessing.sequence import pad_sequences\n",
    "import pickle\n",
    "import numpy as np\n",
    "\n",
    "\n",
    "model = tf.keras.models.load_model(MODEL_OP_FILE)\n",
    "with open(TOKENIZER_FILE, \"rb\") as fr:\n",
    "    tokenizer = pickle.load(fr)\n",
    "\n",
    "def predict_from_model(model, tokenizer, terms):\n",
    "    terms = [term.lower() for term in terms]\n",
    "    seq = tokenizer.texts_to_sequences(terms)\n",
    "    padded = pad_sequences(seq, padding='post', maxlen=MAXLEN)\n",
    "    pred = model.predict(padded)\n",
    "    pred_ret = np.argmax(pred, axis=1) + 1\n",
    "    return pred_ret, pred\n"
   ]
  },
  {
   "cell_type": "markdown",
   "metadata": {},
   "source": [
    "## predict from terms"
   ]
  },
  {
   "cell_type": "code",
   "execution_count": null,
   "metadata": {},
   "outputs": [],
   "source": [
    "terms = [\n",
    "    \"information in relation to electronic navigation equipment, positioning, location, routing, route planning, and geographic data relating to location, direction and positioning\",\n",
    "    \"Education and training services in relation to computer software, navigational equipment, maps and map reading;information in relation to entertainment, sporting and cultural activities\",\n",
    "    \"Computer software\",\n",
    "    \"Clothing items including headgear\",\n",
    "    \"Marketplace lending services, namely, facilitating consumer loans between borrowers and private investors\",\n",
    "]\n",
    "\n",
    "predict_from_model(model, tokenizer, terms)"
   ]
  },
  {
   "cell_type": "markdown",
   "metadata": {},
   "source": [
    "## prediction on trained model"
   ]
  },
  {
   "cell_type": "code",
   "execution_count": 3,
   "metadata": {},
   "outputs": [
    {
     "name": "stderr",
     "output_type": "stream",
     "text": [
      "2022-12-05 20:51:43.016844: I tensorflow/core/common_runtime/pluggable_device/pluggable_device_factory.cc:305] Could not identify NUMA node of platform GPU ID 0, defaulting to 0. Your kernel may not have been built with NUMA support.\n",
      "2022-12-05 20:51:43.018614: I tensorflow/core/common_runtime/pluggable_device/pluggable_device_factory.cc:271] Created TensorFlow device (/job:localhost/replica:0/task:0/device:GPU:0 with 0 MB memory) -> physical PluggableDevice (device: 0, name: METAL, pci bus id: <undefined>)\n"
     ]
    },
    {
     "name": "stdout",
     "output_type": "stream",
     "text": [
      "Metal device set to: Apple M1 Pro\n",
      "\n",
      "systemMemory: 16.00 GB\n",
      "maxCacheSize: 5.33 GB\n",
      "\n"
     ]
    },
    {
     "name": "stderr",
     "output_type": "stream",
     "text": [
      "2022-12-05 20:51:45.268148: W tensorflow/core/platform/profile_utils/cpu_utils.cc:128] Failed to get CPU frequency: 0 Hz\n",
      "2022-12-05 20:51:45.614669: I tensorflow/core/grappler/optimizers/custom_graph_optimizer_registry.cc:113] Plugin optimizer for device_type GPU is enabled.\n"
     ]
    },
    {
     "name": "stdout",
     "output_type": "stream",
     "text": [
      "79/79 [==============================] - 4s 20ms/step\n",
      "              precision    recall  f1-score   support\n",
      "\n",
      "           0       0.98      0.92      0.95        48\n",
      "           1       0.82      1.00      0.90         9\n",
      "           2       0.99      0.99      0.99        79\n",
      "           3       1.00      0.82      0.90        11\n",
      "           4       0.97      0.99      0.98        72\n",
      "           5       0.93      0.88      0.90        48\n",
      "           6       0.72      0.96      0.82        56\n",
      "           7       1.00      0.83      0.90        23\n",
      "           8       0.93      0.97      0.95       368\n",
      "           9       0.91      0.89      0.90        36\n",
      "          10       0.96      0.88      0.91        98\n",
      "          11       0.98      0.89      0.93        47\n",
      "          12       1.00      0.86      0.92         7\n",
      "          13       0.86      0.90      0.88        21\n",
      "          14       1.00      1.00      1.00        10\n",
      "          15       0.89      0.97      0.93       102\n",
      "          16       0.77      0.77      0.77        22\n",
      "          17       0.88      0.91      0.89        23\n",
      "          18       0.96      0.96      0.96        24\n",
      "          19       0.89      0.94      0.92        35\n",
      "          20       0.96      0.93      0.95        92\n",
      "          21       0.75      0.60      0.67         5\n",
      "          22       1.00      1.00      1.00         1\n",
      "          23       0.95      1.00      0.97        18\n",
      "          24       0.99      0.99      0.99       117\n",
      "          25       0.85      1.00      0.92        11\n",
      "          26       1.00      1.00      1.00         3\n",
      "          27       0.81      0.93      0.87        45\n",
      "          28       0.96      1.00      0.98        44\n",
      "          29       0.95      0.98      0.97        62\n",
      "          30       1.00      1.00      1.00        15\n",
      "          31       1.00      0.91      0.95        11\n",
      "          32       1.00      0.89      0.94         9\n",
      "          33       1.00      1.00      1.00         2\n",
      "          34       0.89      0.85      0.87       236\n",
      "          35       0.98      0.98      0.98       125\n",
      "          36       1.00      0.96      0.98        54\n",
      "          37       0.97      0.95      0.96        37\n",
      "          38       0.98      0.91      0.94        44\n",
      "          39       0.90      0.86      0.88        22\n",
      "          40       0.96      0.94      0.95       170\n",
      "          41       0.81      0.82      0.82       168\n",
      "          42       0.90      0.64      0.75        14\n",
      "          43       0.86      1.00      0.92        30\n",
      "          44       0.82      0.35      0.49        26\n",
      "\n",
      "    accuracy                           0.92      2500\n",
      "   macro avg       0.93      0.91      0.91      2500\n",
      "weighted avg       0.92      0.92      0.92      2500\n",
      "\n"
     ]
    }
   ],
   "source": [
    "\n",
    "\n",
    "import os\n",
    "import pickle\n",
    "MODEL_FILE = os.path.join(BASE_PATH, MODEL_FN)\n",
    "TEST_GS_PICKLE_FILE = os.path.join(BASE_PATH, TEST_GS_PICKLE_FN)\n",
    "TEST_CLASS_PICKLE_FILE = os.path.join(BASE_PATH, TEST_CLASS_PICKLE_FN)\n",
    "\n",
    "with open(TEST_GS_PICKLE_FILE, \"rb\") as fr:\n",
    "    test_gs = pickle.load(fr)\n",
    "\n",
    "with open(TEST_CLASS_PICKLE_FILE, \"rb\") as fr:\n",
    "    test_class = pickle.load(fr)\n",
    "\n",
    "import tensorflow as tf\n",
    "from sklearn.metrics import classification_report\n",
    "model = tf.keras.models.load_model(MODEL_FILE)\n",
    "\n",
    "predictions = model.predict(test_gs)\n",
    "report = classification_report(\n",
    "    test_class.argmax(axis=1),\n",
    "\tpredictions.argmax(axis=1)\n",
    ")\n"
   ]
  },
  {
   "attachments": {},
   "cell_type": "markdown",
   "metadata": {},
   "source": [
    "## Analysis on Model"
   ]
  },
  {
   "attachments": {},
   "cell_type": "markdown",
   "metadata": {},
   "source": [
    "## compare two model's embedding weight"
   ]
  },
  {
   "cell_type": "code",
   "execution_count": 1,
   "metadata": {},
   "outputs": [
    {
     "name": "stdout",
     "output_type": "stream",
     "text": [
      "Metal device set to: Apple M1 Pro\n",
      "\n",
      "systemMemory: 16.00 GB\n",
      "maxCacheSize: 5.33 GB\n",
      "\n"
     ]
    },
    {
     "name": "stderr",
     "output_type": "stream",
     "text": [
      "2022-12-14 15:58:58.578896: I tensorflow/core/common_runtime/pluggable_device/pluggable_device_factory.cc:305] Could not identify NUMA node of platform GPU ID 0, defaulting to 0. Your kernel may not have been built with NUMA support.\n",
      "2022-12-14 15:58:58.581673: I tensorflow/core/common_runtime/pluggable_device/pluggable_device_factory.cc:271] Created TensorFlow device (/job:localhost/replica:0/task:0/device:GPU:0 with 0 MB memory) -> physical PluggableDevice (device: 0, name: METAL, pci bus id: <undefined>)\n"
     ]
    }
   ],
   "source": [
    "# from keras.models import load_model\n",
    "import tensorflow as tf\n",
    "from keras_preprocessing.sequence import pad_sequences\n",
    "import pickle\n",
    "import numpy as np\n",
    "\n",
    "model_1 = tf.keras.models.load_model(MODEL_OP_FILE_1)\n",
    "model_2 = tf.keras.models.load_model(MODEL_OP_FILE_2)\n",
    "\n",
    "np.sum(model_2.layers[1].weights[0] == model_3.layers[1].weights[0])\n",
    "(lambda x: x[0]*x[1])(model_2.layers[1].weights[0].shape)"
   ]
  }
 ],
 "metadata": {
  "kernelspec": {
   "display_name": "Python 3.8.13 ('tm_nlp')",
   "language": "python",
   "name": "python3"
  },
  "language_info": {
   "codemirror_mode": {
    "name": "ipython",
    "version": 3
   },
   "file_extension": ".py",
   "mimetype": "text/x-python",
   "name": "python",
   "nbconvert_exporter": "python",
   "pygments_lexer": "ipython3",
   "version": "3.8.13"
  },
  "orig_nbformat": 4,
  "vscode": {
   "interpreter": {
    "hash": "ed6a63b888fcb7d5f9ca97fbfdb77660060e60ab923755bd2b1564545ea9c047"
   }
  }
 },
 "nbformat": 4,
 "nbformat_minor": 2
}
